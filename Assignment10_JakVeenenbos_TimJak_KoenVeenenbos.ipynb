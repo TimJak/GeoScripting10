{
 "metadata": {
  "name": "",
  "signature": "sha256:3f951f040e5877dd5a5f07e9d5e5f5f86b46ea3323dd33ea63325b95ade07d21"
 },
 "nbformat": 3,
 "nbformat_minor": 0,
 "worksheets": [
  {
   "cells": [
    {
     "cell_type": "code",
     "collapsed": false,
     "input": [
      "#import the required packages\n",
      "from osgeo import ogr, osr\n",
      "import os\n",
      "import folium\n",
      "import subprocess\n",
      "\n",
      "#Check if the driverName is available\n",
      "driverName = \"ESRI Shapefile\"\n",
      "drv = ogr.GetDriverByName(driverName)\n",
      "\n",
      "if drv is None:\n",
      "    print \"%s driver not available.\\n\" % driverName\n",
      "else:\n",
      "    print \"%s driver IS available.\\n\" % driverName\n",
      "\n",
      "#Create FileName and Layername\n",
      "fn = \"PointData.shp\"\n",
      "layername = \"PointsForumAndBennekom\"\n",
      "\n",
      "#Create shapefile\n",
      "ds = drv.CreateDataSource(fn)\n",
      "\n",
      "#Set the correct coordinate system\n",
      "spatialReference = osr.SpatialReference()\n",
      "spatialReference.ImportFromProj4('+proj=longlat +ellps=WGS84 +datum=WGS84 +no_defs')\n",
      "\n",
      "#Create the layer\n",
      "layer = ds.CreateLayer(layername, spatialReference, ogr.wkbPoint)\n",
      "\n",
      "#Create the points and give them the appropriate coordinates\n",
      "Forum = ogr.Geometry(ogr.wkbPoint)\n",
      "Bennekom = ogr.Geometry(ogr.wkbPoint)\n",
      "\n",
      "Forum.SetPoint(0,5.663667,51.985418)\n",
      "Bennekom.SetPoint(0,5.669566,52.005821)\n",
      "\n",
      "#Create the feature layer\n",
      "layerDefinition = layer.GetLayerDefn()\n",
      "feature1 = ogr.Feature(layerDefinition)\n",
      "feature2 = ogr.Feature(layerDefinition)\n",
      "\n",
      "feature1.SetGeometry(Forum)\n",
      "feature2.SetGeometry(Bennekom)\n",
      "\n",
      "layer.CreateFeature(feature1)\n",
      "layer.CreateFeature(feature2)\n",
      "\n",
      "#Substract the KML information for Forum and Bennekom\n",
      "Forumkml = Forum.ExportToKML()\n",
      "Bennekomkml = Bennekom.ExportToKML()\n",
      "\n",
      "#Paste this information in a text file and save it as .kml\n",
      "string = \"<Document><Placemark>\" + Forumkml + \"</Placemark><Placemark>\" + Bennekomkml + \"</Placemark></Document>\"\n",
      "fil = open(\"ForumBennekom.kml\",\"w\") \n",
      "fil.write(string)\n",
      "fil.close()\n",
      "\n",
      "ds.Destroy()\n",
      "\n",
      "#Display the two points in a map\n",
      "Bash = \"ogr2ogr -f GeoJSON -t_srs crs:84 pointData.geojson PointData.shp\"\n",
      "ForumBennekomGeojson = subprocess.Popen(Bash, shell = True)\n",
      "\n",
      "pointsGeo=os.path.join(\"pointData.geojson\")\n",
      "map_points = folium.Map(location=[52,5.7], tiles = 'Mapbox Bright', zoom_start = 6)\n",
      "map_points.choropleth(geo_path=pointsGeo)\n",
      "map_points.save('pointData.html')"
     ],
     "language": "python",
     "metadata": {},
     "outputs": [
      {
       "output_type": "stream",
       "stream": "stdout",
       "text": [
        "ESRI Shapefile driver IS available.\n",
        "\n"
       ]
      }
     ],
     "prompt_number": 2
    },
    {
     "cell_type": "code",
     "collapsed": false,
     "input": [],
     "language": "python",
     "metadata": {},
     "outputs": []
    }
   ],
   "metadata": {}
  }
 ]
}